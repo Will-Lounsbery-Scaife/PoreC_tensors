{
 "cells": [
  {
   "cell_type": "code",
   "execution_count": 1,
   "metadata": {},
   "outputs": [],
   "source": [
    "import os\n",
    "import pickle\n",
    "import numpy as np\n",
    "import math\n",
    "import cooler\n",
    "import pandas as pd"
   ]
  },
  {
   "cell_type": "code",
   "execution_count": 3,
   "metadata": {},
   "outputs": [],
   "source": [
    "pickle_files_directory_c2_m1 = '/commons/groups/gursoy_lab/wlounsberyscaife/ML_poreC/output/01_12/tensors_c2_m1'\n",
    "cool_directory_c2_m1 = '/commons/groups/gursoy_lab/wlounsberyscaife/ML_poreC/scripts/python_scripts/factor_analysis/cool/data/poreC_cools_c2_m1'\n",
    "\n",
    "pickle_files_directory_c2_m2 = '/commons/groups/gursoy_lab/wlounsberyscaife/ML_poreC/output/01_12/tensors_c2_m2'\n",
    "cool_directory_c2_m2 = '/commons/groups/gursoy_lab/wlounsberyscaife/ML_poreC/scripts/python_scripts/factor_analysis/cool/data/poreC_cools_c2_m2'\n",
    "\n",
    "pickle_files_directory_c2_m3 = '/commons/groups/gursoy_lab/wlounsberyscaife/ML_poreC/output/01_12/tensors_c2_m3'\n",
    "cool_directory_c2_m3 = '/commons/groups/gursoy_lab/wlounsberyscaife/ML_poreC/scripts/python_scripts/factor_analysis/cool/data/poreC_cools_c2_m3'\n",
    "\n",
    "pickle_files_directory_c2_test = '/commons/groups/gursoy_lab/wlounsberyscaife/ML_poreC/output/01_12/tensors_c2_test'\n",
    "cool_directory_c2_test = '/commons/groups/gursoy_lab/wlounsberyscaife/ML_poreC/scripts/python_scripts/factor_analysis/cool/data/poreC_cools_c2_test'\n",
    "\n",
    "# Base directory for the input and output files\n",
    "input_dir_cools_c2_m1 = \"/commons/groups/gursoy_lab/wlounsberyscaife/ML_poreC/scripts/python_scripts/factor_analysis/cool/data/poreC_cools_c2_m1/\"\n",
    "output_dir_cools_c2_m1 = \"/commons/groups/gursoy_lab/wlounsberyscaife/ML_poreC/scripts/python_scripts/factor_analysis/cool/data/poreC_cools_c2_m1_transformed/\"\n",
    "\n",
    "input_dir_cools_c2_m2 = \"/commons/groups/gursoy_lab/wlounsberyscaife/ML_poreC/scripts/python_scripts/factor_analysis/cool/data/poreC_cools_c2_m2/\"\n",
    "output_dir_cools_c2_m2 = \"/commons/groups/gursoy_lab/wlounsberyscaife/ML_poreC/scripts/python_scripts/factor_analysis/cool/data/poreC_cools_c2_m2_transformed/\"\n",
    "\n",
    "input_dir_cools_c2_m3 = \"/commons/groups/gursoy_lab/wlounsberyscaife/ML_poreC/scripts/python_scripts/factor_analysis/cool/data/poreC_cools_c2_m3/\"\n",
    "output_dir_cools_c2_m3 = \"/commons/groups/gursoy_lab/wlounsberyscaife/ML_poreC/scripts/python_scripts/factor_analysis/cool/data/poreC_cools_c2_m3_transformed/\"\n",
    "\n",
    "input_dir_cools_c2_test = \"/commons/groups/gursoy_lab/wlounsberyscaife/ML_poreC/scripts/python_scripts/factor_analysis/cool/data/poreC_cools_c2_test/\"\n",
    "output_dir_cools_c2_test = \"/commons/groups/gursoy_lab/wlounsberyscaife/ML_poreC/scripts/python_scripts/factor_analysis/cool/data/poreC_cools_c2_test_transformed/\""
   ]
  },
  {
   "cell_type": "code",
   "execution_count": 4,
   "metadata": {},
   "outputs": [],
   "source": [
    "# Define the bin size used in your 2D tensors\n",
    "bin_size = 100000\n",
    "\n",
    "def get_chromosome_lengths():\n",
    "    chromosome_lengths = {}\n",
    "    chromosome_lengths[\"chr1\"] = 248956422\n",
    "    chromosome_lengths[\"chr2\"] = 242193529\n",
    "    chromosome_lengths[\"chr3\"] = 198295559\n",
    "    chromosome_lengths[\"chr4\"] = 190214555\n",
    "    chromosome_lengths[\"chr5\"] = 181538259\n",
    "    chromosome_lengths[\"chr6\"] = 170805979\n",
    "    chromosome_lengths[\"chr7\"] = 159345973\n",
    "    chromosome_lengths[\"chr8\"] = 145138636\n",
    "    chromosome_lengths[\"chr9\"] = 138394717\n",
    "    chromosome_lengths[\"chr10\"] = 133797422\n",
    "    chromosome_lengths[\"chr11\"] = 135086622\n",
    "    chromosome_lengths[\"chr12\"] = 133275309\n",
    "    chromosome_lengths[\"chr13\"] = 114364328\n",
    "    chromosome_lengths[\"chr14\"] = 107043718\n",
    "    chromosome_lengths[\"chr15\"] = 101991189\n",
    "    chromosome_lengths[\"chr16\"] = 90338345\n",
    "    chromosome_lengths[\"chr17\"] = 83257441\n",
    "    chromosome_lengths[\"chr18\"] = 80373285\n",
    "    chromosome_lengths[\"chr19\"] = 58617616\n",
    "    chromosome_lengths[\"chr20\"] = 64444167\n",
    "    chromosome_lengths[\"chr21\"] = 46709983\n",
    "    chromosome_lengths[\"chr22\"] = 50818468\n",
    "    return chromosome_lengths\n",
    "\n",
    "# chromosomes = [str(i) for i in range(1, 23)]\n",
    "# chromosomes = [\"5\", \"15\", \"17\", \"20\", \"21\"]\n",
    "chromosomes = [\"20\"]\n",
    "chromosome_lengths = get_chromosome_lengths()\n"
   ]
  },
  {
   "cell_type": "code",
   "execution_count": 5,
   "metadata": {},
   "outputs": [],
   "source": [
    "def load_tensor_from_pickle(my_file_path):\n",
    "    with open(my_file_path, 'rb') as file:\n",
    "        tensor = pickle.load(file)\n",
    "    return tensor.numpy()  # Convert PyTorch tensor to a NumPy array\n",
    "\n",
    "def get_number_of_bins(chromosome_length, bin_size):\n",
    "    return math.ceil(chromosome_length / bin_size) + 1"
   ]
  },
  {
   "cell_type": "code",
   "execution_count": 6,
   "metadata": {},
   "outputs": [],
   "source": [
    "def create_cool_file(interaction_matrix, chromosome, cool_output_path, bin_size):\n",
    "    # Generate a minimal BED-like dataframe for bins\n",
    "    n_bins = interaction_matrix.shape[0]\n",
    "    bins_data = {\n",
    "        'chrom': [chromosome] * n_bins,\n",
    "        'start': [i * bin_size for i in range(n_bins)],\n",
    "        'end': [(i + 1) * bin_size for i in range(n_bins)],\n",
    "    }\n",
    "    bins_df = pd.DataFrame(bins_data)\n",
    "\n",
    "    # Generate a dataframe for the pixel values in the matrix\n",
    "    pixel_data = {\n",
    "        'bin1_id': [],\n",
    "        'bin2_id': [],\n",
    "        'count': []\n",
    "    }\n",
    "    for i in range(n_bins):\n",
    "        for j in range(i, n_bins):\n",
    "            count = interaction_matrix[i, j]\n",
    "            if count > 0:  # We only record non-zero interactions\n",
    "                pixel_data['bin1_id'].append(i)\n",
    "                pixel_data['bin2_id'].append(j)\n",
    "                pixel_data['count'].append(count)\n",
    "    pixels_df = pd.DataFrame(pixel_data)\n",
    "\n",
    "    # Create the .cool file (unbalanced)\n",
    "    cooler.create_cooler(cool_uri=cool_output_path, bins=bins_df, pixels=pixels_df)\n",
    "    print(\"Created unbalanced .cool file:\", cool_output_path)\n"
   ]
  },
  {
   "cell_type": "code",
   "execution_count": 7,
   "metadata": {},
   "outputs": [],
   "source": [
    "def create_and_balance_cool_file(interaction_matrix, chromosome, cool_output_path, bin_size):\n",
    "    # Generate a minimal BED-like dataframe for bins\n",
    "    n_bins = interaction_matrix.shape[0]\n",
    "    bins_data = {\n",
    "        'chrom': [chromosome] * n_bins,\n",
    "        'start': [i * bin_size for i in range(n_bins)],\n",
    "        'end': [(i + 1) * bin_size for i in range(n_bins)],\n",
    "    }\n",
    "    bins_df = pd.DataFrame(bins_data)\n",
    "\n",
    "    # Generate a dataframe for the pixel values in the matrix\n",
    "    pixel_data = {\n",
    "        'bin1_id': [],\n",
    "        'bin2_id': [],\n",
    "        'count': []\n",
    "    }\n",
    "    for i in range(n_bins):\n",
    "        for j in range(i, n_bins):\n",
    "            count = interaction_matrix[i, j]\n",
    "            if count > 0:  # We only record non-zero interactions\n",
    "                pixel_data['bin1_id'].append(i)\n",
    "                pixel_data['bin2_id'].append(j)\n",
    "                pixel_data['count'].append(count)\n",
    "    pixels_df = pd.DataFrame(pixel_data)\n",
    "\n",
    "    # Create the .cool file\n",
    "    cooler.create_cooler(cool_uri=cool_output_path, bins=bins_df, pixels=pixels_df)\n",
    "    print(\"Created .cool file:\", cool_output_path)\n",
    "\n",
    "    # Load the created .cool file for balancing\n",
    "    clr = cooler.Cooler(cool_output_path)\n",
    "\n",
    "    # Perform balancing\n",
    "    balanced_clr = cooler.balance_cooler(\n",
    "        clr, \n",
    "        cis_only=True, \n",
    "        ignore_diags=2, \n",
    "        mad_max=5, \n",
    "        min_nnz=10, \n",
    "        min_count=0, \n",
    "        store=True, \n",
    "        store_name='weight'\n",
    "    )\n",
    "\n",
    "    print(\"Balanced .cool file created and stored:\", cool_output_path)\n"
   ]
  },
  {
   "cell_type": "code",
   "execution_count": 25,
   "metadata": {},
   "outputs": [
    {
     "name": "stdout",
     "output_type": "stream",
     "text": [
      "Created .cool file: /commons/groups/gursoy_lab/wlounsberyscaife/ML_poreC/scripts/python_scripts/factor_analysis/cool/data/poreC_cools_c2_m2/NlaIII_GM12878_chr20_tensor_balanced.cool\n",
      "Balanced .cool file created and stored: /commons/groups/gursoy_lab/wlounsberyscaife/ML_poreC/scripts/python_scripts/factor_analysis/cool/data/poreC_cools_c2_m2/NlaIII_GM12878_chr20_tensor_balanced.cool\n",
      "success\n"
     ]
    },
    {
     "data": {
      "text/plain": [
       "'\\nfor file_name in os.listdir(pickle_files_directory_c2_m1):\\n    if file_name.endswith(\\'.pickle\\'):\\n        chromosome = file_name.split(\\'_\\')[2]\\n        if chromosome in chromosome_lengths:\\n            file_path = os.path.join(pickle_files_directory_c2_m1, file_name)\\n            interaction_tensor = load_tensor_from_pickle(file_path)\\n            num_bins = get_number_of_bins(chromosome_lengths[chromosome], bin_size) \\n\\n            if interaction_tensor.shape == (num_bins, num_bins):\\n                cool_file_name = file_name.replace(\\'.pickle\\', \\'.cool\\')\\n                cool_file_path = os.path.join(cool_directory_c2_m1, cool_file_name)\\n                create_cool_file(interaction_tensor, chromosome, cool_file_path, bin_size)\\n        else:\\n            print(f\"Chromosome {chromosome} not found in chromosome lengths dictionary.\")\\n\\n\\nprint(\"\\n\")\\nfor file_name in os.listdir(pickle_files_directory_c2_m3):\\n    if file_name.endswith(\\'.pickle\\'):\\n        chromosome = file_name.split(\\'_\\')[2]\\n        if chromosome in chromosome_lengths:\\n            file_path = os.path.join(pickle_files_directory_c2_m3, file_name)\\n            interaction_tensor = load_tensor_from_pickle(file_path)\\n            num_bins = get_number_of_bins(chromosome_lengths[chromosome], bin_size)\\n\\n            if interaction_tensor.shape == (num_bins, num_bins):\\n                cool_file_name = file_name.replace(\\'.pickle\\', \\'.cool\\')\\n                cool_file_path = os.path.join(cool_directory_c2_m3, cool_file_name)\\n                create_cool_file(interaction_tensor, chromosome, cool_file_path, bin_size)\\n        else:\\n            print(f\"Chromosome {chromosome} not found in chromosome lengths dictionary.\")\\n\\nprint(\"\\n\")\\nfor file_name in os.listdir(pickle_files_directory_c2_test):\\n    if file_name.endswith(\\'.pickle\\'):\\n        chromosome = file_name.split(\\'_\\')[2]\\n        if chromosome in chromosome_lengths:\\n            file_path = os.path.join(pickle_files_directory_c2_test, file_name)\\n            interaction_tensor = load_tensor_from_pickle(file_path)\\n            num_bins = get_number_of_bins(chromosome_lengths[chromosome], bin_size)\\n\\n            if interaction_tensor.shape == (num_bins, num_bins):\\n                cool_file_name = file_name.replace(\\'.pickle\\', \\'.cool\\')\\n                cool_file_path = os.path.join(cool_directory_c2_test, cool_file_name)\\n                create_cool_file(interaction_tensor, chromosome, cool_file_path, bin_size)\\n        else:\\n            print(f\"Chromosome {chromosome} not found in chromosome lengths dictionary.\")\\n'"
      ]
     },
     "execution_count": 25,
     "metadata": {},
     "output_type": "execute_result"
    }
   ],
   "source": [
    "for file_name in os.listdir(pickle_files_directory_c2_m2):\n",
    "    if file_name.endswith('.pickle'):\n",
    "        chromosome = file_name.split('_')[2]\n",
    "        if chromosome == 'chr20':\n",
    "            file_path = os.path.join(pickle_files_directory_c2_m2, file_name)\n",
    "            interaction_tensor = load_tensor_from_pickle(file_path)\n",
    "            num_bins = get_number_of_bins(chromosome_lengths[chromosome], bin_size)\n",
    "\n",
    "            if interaction_tensor.shape == (num_bins, num_bins):\n",
    "                cool_file_name = file_name.replace('.pickle', '.cool')\n",
    "                balanced_cool_file_name = cool_file_name.replace('.cool', '_balanced.cool')\n",
    "                cool_file_path = os.path.join(cool_directory_c2_m2, cool_file_name)\n",
    "                balanced_cool_file_path = os.path.join(cool_directory_c2_m2, balanced_cool_file_name)\n",
    "                # create_cool_file(interaction_tensor, chromosome, cool_file_path, bin_size)\n",
    "                create_and_balance_cool_file(interaction_tensor, chromosome, balanced_cool_file_path, bin_size)\n",
    "                print(\"success\")\n"
   ]
  },
  {
   "cell_type": "code",
   "execution_count": 8,
   "metadata": {},
   "outputs": [
    {
     "name": "stdout",
     "output_type": "stream",
     "text": [
      "Created .cool file: /commons/groups/gursoy_lab/wlounsberyscaife/ML_poreC/scripts/python_scripts/factor_analysis/cool/data/poreC_cools_c2_m1/NlaIII_GM12878_chr20_tensor_balanced.cool\n",
      "Balanced .cool file created and stored: /commons/groups/gursoy_lab/wlounsberyscaife/ML_poreC/scripts/python_scripts/factor_analysis/cool/data/poreC_cools_c2_m1/NlaIII_GM12878_chr20_tensor_balanced.cool\n",
      "success\n"
     ]
    }
   ],
   "source": [
    "for file_name in os.listdir(pickle_files_directory_c2_m1):\n",
    "    if file_name.endswith('.pickle'):\n",
    "        chromosome = file_name.split('_')[2]\n",
    "        if chromosome == 'chr20':\n",
    "            file_path = os.path.join(pickle_files_directory_c2_m1, file_name)\n",
    "            interaction_tensor = load_tensor_from_pickle(file_path)\n",
    "            num_bins = get_number_of_bins(chromosome_lengths[chromosome], bin_size)\n",
    "\n",
    "            if interaction_tensor.shape == (num_bins, num_bins):\n",
    "                cool_file_name = file_name.replace('.pickle', '.cool')\n",
    "                balanced_cool_file_name = cool_file_name.replace('.cool', '_balanced.cool')\n",
    "                cool_file_path = os.path.join(cool_directory_c2_m1, cool_file_name)\n",
    "                balanced_cool_file_path = os.path.join(cool_directory_c2_m1, balanced_cool_file_name)\n",
    "                # create_cool_file(interaction_tensor, chromosome, cool_file_path, bin_size)\n",
    "                create_and_balance_cool_file(interaction_tensor, chromosome, balanced_cool_file_path, bin_size)\n",
    "                print(\"success\")\n"
   ]
  }
 ],
 "metadata": {
  "kernelspec": {
   "display_name": "cooltools",
   "language": "python",
   "name": "python3"
  },
  "language_info": {
   "codemirror_mode": {
    "name": "ipython",
    "version": 3
   },
   "file_extension": ".py",
   "mimetype": "text/x-python",
   "name": "python",
   "nbconvert_exporter": "python",
   "pygments_lexer": "ipython3",
   "version": "3.10.13"
  }
 },
 "nbformat": 4,
 "nbformat_minor": 2
}
